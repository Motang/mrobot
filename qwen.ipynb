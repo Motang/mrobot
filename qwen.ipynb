{
 "cells": [
  {
   "cell_type": "code",
   "execution_count": null,
   "metadata": {},
   "outputs": [],
   "source": []
  },
  {
   "cell_type": "code",
   "execution_count": null,
   "metadata": {},
   "outputs": [],
   "source": [
    "from dashscope import Generation\n",
    "\n",
    "class QwenOnline:\n",
    "    def __init__(self):\n",
    "        super(QwenOnline, self).__init__()\n",
    "        self.model = Generation()\n",
    "\n",
    "    def completion(self, system_prompt, user_prompt):\n",
    "        # More information please see\n",
    "        # https://help.aliyun.com/zh/dashscope/developer-reference/api-details\n",
    "        messages = [{'role': 'system', 'content': system_prompt},\n",
    "                    {'role': 'user', 'content': user_prompt}]\n",
    "        print(messages)\n",
    "        response = self.model.call(\n",
    "            model='qwen-plus',\n",
    "            messages=messages,\n",
    "            result_format='message',\n",
    "            api_key='sk-66308d307c8b4080ac3b1357a27b4396'\n",
    "        )\n",
    "        if response.status_code == HTTPStatus.OK:\n",
    "            return response.output['choices'][0]['message']['content']\n",
    "        else:\n",
    "            print('Request id: %s, Status code: %s, error code: %s, error message: %s' % (\n",
    "                response.request_id, response.status_code,\n",
    "                response.code, response.message\n",
    "            ))\n",
    "            return \"I am so sorry, request failed, please retry\"\n"
   ]
  }
 ],
 "metadata": {
  "language_info": {
   "name": "python"
  },
  "orig_nbformat": 4
 },
 "nbformat": 4,
 "nbformat_minor": 2
}
