{
 "cells": [
  {
   "cell_type": "markdown",
   "metadata": {},
   "source": [
    "### 内容\n",
    "1. 嵌入模型私有化\n",
    "2. 向量数据库私有化\n",
    "3. 大语言模型私有化"
   ]
  },
  {
   "cell_type": "markdown",
   "metadata": {},
   "source": [
    "### 私有化，肯定要涉及到基础设施的部署\n",
    "通常是五部曲\n",
    "1. 购买硬件/云服务器（Dell、IBM、Cloud..）\n",
    "3. 安装操作系统（Ubuntu、CentOS..）\n",
    "4. 打上显卡驱动（NVIDIA Drive）\n",
    "5. 选择算法框架及计算架构 （PyTorch-Meta, TensorFlow-Google, MindSpore-Huawei...）（CUDA）\n",
    "6. 运行对应的模型（Embedding、Language...）"
   ]
  },
  {
   "cell_type": "code",
   "execution_count": null,
   "metadata": {},
   "outputs": [],
   "source": [
    "# 问题：无法下载到模型权重\n",
    "\n",
    "# 方式一：https://huggingface.co/ HuggingFace Mirror\n",
    "# https://aliendao.cn/\n",
    "\n",
    "# 方式二：国内平替，例如阿里云摩搭\n",
    "# https://www.modelscope.cn/"
   ]
  },
  {
   "cell_type": "code",
   "execution_count": null,
   "metadata": {},
   "outputs": [],
   "source": [
    "# 问题：没有本地算力资源\n",
    "# 方式一：用第三方租用，例如 AWS、腾讯云的 GPU 实例\n",
    "# 方式二：第三方托管（开源模型），例如阿里云灵积直接调用 API（某种意义上也可以做到可控）\n",
    "# https://dashscope.console.aliyun.com/"
   ]
  },
  {
   "cell_type": "markdown",
   "metadata": {},
   "source": [
    "### 第一架马车：Embedding Model"
   ]
  },
  {
   "cell_type": "code",
   "execution_count": null,
   "metadata": {},
   "outputs": [],
   "source": [
    "# 开源模型有很多，也可以自己来根据业务训练（例如专注于零售、医疗、供应链领域..）\n",
    "# 选择一个性能不错的，可以开箱即用的 (Moka Massive Mixed Embedding)\n",
    "# https://huggingface.co/moka-ai/m3e-base"
   ]
  },
  {
   "cell_type": "code",
   "execution_count": 23,
   "metadata": {},
   "outputs": [
    {
     "name": "stdout",
     "output_type": "stream",
     "text": [
      "提供有 4 个向量，每个向量有 768 维度\n"
     ]
    }
   ],
   "source": [
    "# 很简单的工作过程，输入n个句子，给回n个d维度的向量\n",
    "\n",
    "from sentence_transformers import SentenceTransformer\n",
    "embed_model = SentenceTransformer(model_name_or_path=\"./weights/embedding/m3e-base/\")\n",
    "sentence = ['How are you', \"你好\", \"Bonjour\", \"こんにちは\"]\n",
    "vectors = embed_model.encode(sentence)\n",
    "\n",
    "print(f'提供有 {len(vectors)} 个向量，每个向量有 {len(vectors[0])} 维度')"
   ]
  },
  {
   "cell_type": "code",
   "execution_count": 4,
   "metadata": {},
   "outputs": [
    {
     "data": {
      "text/plain": [
       "(4, 768)"
      ]
     },
     "execution_count": 4,
     "metadata": {},
     "output_type": "execute_result"
    }
   ],
   "source": [
    "vectors.shape"
   ]
  },
  {
   "cell_type": "code",
   "execution_count": 5,
   "metadata": {},
   "outputs": [
    {
     "data": {
      "text/plain": [
       "array([[ 1.1611574 ,  0.37050796,  0.7901164 , ..., -0.6740078 ,\n",
       "        -1.0759622 , -0.6462538 ],\n",
       "       [ 0.5670725 ,  0.44698715,  1.1844376 , ..., -1.0427248 ,\n",
       "        -0.8064798 , -0.24840572],\n",
       "       [ 0.43304953,  0.79238814,  0.9573602 , ..., -1.1035961 ,\n",
       "        -0.23207028, -0.58914644],\n",
       "       [ 0.4566425 ,  0.63839805,  1.0179789 , ..., -1.3621017 ,\n",
       "        -1.0953146 , -0.644257  ]], dtype=float32)"
      ]
     },
     "execution_count": 5,
     "metadata": {},
     "output_type": "execute_result"
    }
   ],
   "source": [
    "vectors"
   ]
  },
  {
   "cell_type": "code",
   "execution_count": 9,
   "metadata": {},
   "outputs": [
    {
     "data": {
      "text/plain": [
       "(512,)"
      ]
     },
     "execution_count": 9,
     "metadata": {},
     "output_type": "execute_result"
    }
   ],
   "source": [
    "# 不同的模型，有不同的维度，维度越多，能表达的信息量越多\n",
    "# 同一个模型，也有不同的尺寸，例如 m3e 中的 small, base, large \n",
    "\n",
    "from sentence_transformers import SentenceTransformer\n",
    "m3e_small = SentenceTransformer(model_name_or_path=\"./weights/embedding/m3e-small/\")\n",
    "vectors = m3e_small.encode(\"Hello\")\n",
    "vectors.shape"
   ]
  },
  {
   "cell_type": "markdown",
   "metadata": {},
   "source": [
    "### 第二架马车：Vector Database"
   ]
  },
  {
   "cell_type": "code",
   "execution_count": null,
   "metadata": {},
   "outputs": [],
   "source": [
    "# 用传统的数据库来做存储功能也可以，但是基于向量查询就需要在程序内存中处理\n",
    "# 支持私有化部署，对于扩展性、可用性、性能都有高要求 （Milvus）\n",
    "# https://milvus.io/docs"
   ]
  },
  {
   "cell_type": "code",
   "execution_count": 11,
   "metadata": {},
   "outputs": [],
   "source": [
    "# 增删查改来一套\n",
    "from pymilvus import connections, utility, Collection, db, CollectionSchema, FieldSchema, DataType\n",
    "\n",
    "connections = connections.connect(host=\"192.168.0.221\", port=19530, user=\"root\", password=\"\")"
   ]
  },
  {
   "cell_type": "code",
   "execution_count": 12,
   "metadata": {},
   "outputs": [],
   "source": [
    "# 默认系统会自动创建一个名为 default 的数据库\n",
    "database_name = \"motang\"\n",
    "# 创建一个数据库\n",
    "db.create_database(database_name)\n",
    "# 查看实例下有多少个数据库\n",
    "db.list_database()\n",
    "# 删库跑路\n",
    "db.drop_database(database_name)"
   ]
  },
  {
   "cell_type": "code",
   "execution_count": 13,
   "metadata": {},
   "outputs": [],
   "source": [
    "# Collection 类似传统数据库中的 Table 概念\n",
    "database_name = \"default\"\n",
    "collection_name = \"mobot\""
   ]
  },
  {
   "cell_type": "code",
   "execution_count": 42,
   "metadata": {},
   "outputs": [],
   "source": [
    "# 创建集合\n",
    "\n",
    "# 1. 声明 Field 类型及属性\n",
    "fields = [\n",
    "    FieldSchema(name=\"id\", dtype=DataType.INT64, is_primary=True),\n",
    "    FieldSchema(name=\"question\", dtype=DataType.VARCHAR, max_length=1000),\n",
    "    FieldSchema(name=\"answer\", dtype=DataType.VARCHAR, max_length=1000),\n",
    "    FieldSchema(name=\"embedding\", dtype=DataType.FLOAT_VECTOR, dim=768)\n",
    "]\n",
    "\n",
    "# 2. 根据字段声明 Schema\n",
    "schema = CollectionSchema(\n",
    "    fields=fields,\n",
    "    description=\"\",\n",
    "    enable_dynamic_field=True\n",
    ")\n",
    "\n",
    "# 3. 根据 Schema 声明 Collection\n",
    "collection = Collection(\n",
    "    name=collection_name,\n",
    "    schema=schema,\n",
    "    using=database_name,\n",
    ")\n",
    "\n",
    "# 4. 创建 Field 的索引\n",
    "index_params = {\n",
    "    'index_type': \"IVF_FLAT\",\n",
    "    'metric_type': \"L2\",\n",
    "    'params': {'nlist': 1}\n",
    "}\n",
    "collection.create_index(field_name=\"embedding\", index_params=index_params)\n",
    "\n",
    "# 5. 挂载 Collection，变成可用状态\n",
    "collection.load()"
   ]
  },
  {
   "cell_type": "code",
   "execution_count": 21,
   "metadata": {},
   "outputs": [
    {
     "data": {
      "text/plain": [
       "<Collection>:\n",
       "-------------\n",
       "<name>: mobot\n",
       "<description>: \n",
       "<schema>: {'auto_id': False, 'description': '', 'fields': [{'name': 'id', 'description': '', 'type': <DataType.INT64: 5>, 'is_primary': True, 'auto_id': False}, {'name': 'question', 'description': '', 'type': <DataType.VARCHAR: 21>, 'params': {'max_length': 1000}}, {'name': 'answer', 'description': '', 'type': <DataType.VARCHAR: 21>, 'params': {'max_length': 1000}}, {'name': 'embedding', 'description': '', 'type': <DataType.FLOAT_VECTOR: 101>, 'params': {'dim': 1024}}], 'enable_dynamic_field': True}"
      ]
     },
     "execution_count": 21,
     "metadata": {},
     "output_type": "execute_result"
    }
   ],
   "source": [
    "# 查看 Collection 详情\n",
    "Collection(collection_name)"
   ]
  },
  {
   "cell_type": "code",
   "execution_count": 41,
   "metadata": {},
   "outputs": [],
   "source": [
    "# 删库大法\n",
    "utility.drop_collection(collection_name)"
   ]
  },
  {
   "cell_type": "code",
   "execution_count": 18,
   "metadata": {},
   "outputs": [
    {
     "data": {
      "text/plain": [
       "False"
      ]
     },
     "execution_count": 18,
     "metadata": {},
     "output_type": "execute_result"
    }
   ],
   "source": [
    "# 判断 Collection 是否存在\n",
    "utility.has_collection(collection_name)"
   ]
  },
  {
   "cell_type": "markdown",
   "metadata": {},
   "source": [
    "#### Document"
   ]
  },
  {
   "cell_type": "code",
   "execution_count": 43,
   "metadata": {},
   "outputs": [],
   "source": [
    "# 新增数据\n",
    "knowledge_base = [\n",
    "    {\"question\": \"模利是谁\", \"answer\": \"模利是丰速科技的架构师，全名为唐模利。\"},\n",
    "    {\"question\": \"老牛是谁\", \"answer\": \"老牛是丰速科技的人财中心负责人，全名是牛总。\"},\n",
    "    {\"question\": \"易打单是什么\", \"answer\": \"是一款电商打运单软件，各大电商平台商家订单、运单协同处理SaaS平台，集成了订单管理、运单打印、一键发货、单号分享、物流匹配、查询路由、运费对账、商品管理、库存管理、开放平台等功能，对接主流电商平台超过40家，可打印70+主流快递公司的电子面单，为商家提供方便快捷的服务。\"}\n",
    "\n",
    "]\n",
    "\n",
    "ids, questions, answers, vectors = [], [], [], []\n",
    "\n",
    "for i in range(len(knowledge_base)):\n",
    "    ids.append(i+1)\n",
    "    questions.append(knowledge_base[i]['question'])\n",
    "    answers.append(knowledge_base[i]['answer'])\n",
    "    vectors.append(embed_model.encode(f'{knowledge_base[i][\"question\"]}\\n\\n{knowledge_base[i][\"answer\"]}'))\n",
    "\n",
    "\n",
    "entities = [ids, questions, answers, vectors]\n",
    "\n",
    "collection.insert(entities)\n",
    "collection.flush()"
   ]
  },
  {
   "cell_type": "code",
   "execution_count": 47,
   "metadata": {},
   "outputs": [],
   "source": [
    "# 基于向量的相似度搜索\n",
    "\n",
    "data = embed_model.encode([\"老牛是谁\"])\n",
    "top_k = 3\n",
    "\n",
    "documents = collection.search(\n",
    "    data=data,\n",
    "    anns_field=\"embedding\",\n",
    "    param={\"metric_type\": \"L2\", \"params\": {\"nprobe\": 1}, \"offset\": 0},\n",
    "    limit=top_k,\n",
    "    output_fields=[\"*\"]\n",
    ")"
   ]
  },
  {
   "cell_type": "code",
   "execution_count": 48,
   "metadata": {},
   "outputs": [
    {
     "name": "stdout",
     "output_type": "stream",
     "text": [
      "2\n",
      "94.0130615234375\n",
      "老牛是谁\n",
      "老牛是丰速科技的人财中心负责人，全名是牛总。\n",
      "----------------\n",
      "1\n",
      "231.83514404296875\n",
      "模利是谁\n",
      "模利是丰速科技的架构师，全名为唐模利。\n",
      "----------------\n",
      "3\n",
      "303.7200927734375\n",
      "易打单是什么\n",
      "是一款电商打运单软件，各大电商平台商家订单、运单协同处理SaaS平台，集成了订单管理、运单打印、一键发货、单号分享、物流匹配、查询路由、运费对账、商品管理、库存管理、开放平台等功能，对接主流电商平台超过40家，可打印70+主流快递公司的电子面单，为商家提供方便快捷的服务。\n",
      "----------------\n"
     ]
    }
   ],
   "source": [
    "for i in range(len(documents[0])):\n",
    "    print(documents[0][i].id)\n",
    "    print(documents[0][i].distance)\n",
    "    print(documents[0][i].entity.get('question'))\n",
    "    print(documents[0][i].entity.get('answer'))\n",
    "    print('----------------')"
   ]
  },
  {
   "cell_type": "code",
   "execution_count": 49,
   "metadata": {},
   "outputs": [],
   "source": [
    "# 基于标量的查询\n",
    "expr = 'id != 3'\n",
    "\n",
    "documents = collection.query(\n",
    "    expr=expr,\n",
    "    offset=0,\n",
    "    limit=top_k,\n",
    "    output_fields=[\"*\"]\n",
    ")"
   ]
  },
  {
   "cell_type": "code",
   "execution_count": 50,
   "metadata": {},
   "outputs": [
    {
     "name": "stdout",
     "output_type": "stream",
     "text": [
      "1\n",
      "模利是谁\n",
      "模利是丰速科技的架构师，全名为唐模利。\n",
      "----------------\n",
      "2\n",
      "老牛是谁\n",
      "老牛是丰速科技的人财中心负责人，全名是牛总。\n",
      "----------------\n"
     ]
    }
   ],
   "source": [
    "for i in range(len(documents)):\n",
    "    print(documents[i]['id'])\n",
    "    print(documents[i]['question'])\n",
    "    print(documents[i]['answer'])\n",
    "    print('----------------')"
   ]
  },
  {
   "cell_type": "code",
   "execution_count": 52,
   "metadata": {},
   "outputs": [],
   "source": [
    "# 混合检索\n",
    "data = embed_model.encode([\"易打单\"])\n",
    "expr = 'id != 3'\n",
    "\n",
    "documents = collection.search(\n",
    "    data=data,\n",
    "    anns_field=\"embedding\",\n",
    "    param={\"metric_type\": \"L2\", \"params\": {\"nprobe\": 1}, \"offset\": 0},\n",
    "    limit=top_k,\n",
    "    output_fields=[\"*\"],\n",
    "    expr=expr\n",
    ")"
   ]
  },
  {
   "cell_type": "code",
   "execution_count": 53,
   "metadata": {},
   "outputs": [
    {
     "name": "stdout",
     "output_type": "stream",
     "text": [
      "2\n",
      "263.9797668457031\n",
      "老牛是谁\n",
      "老牛是丰速科技的人财中心负责人，全名是牛总。\n",
      "----------------\n",
      "1\n",
      "280.9371337890625\n",
      "模利是谁\n",
      "模利是丰速科技的架构师，全名为唐模利。\n",
      "----------------\n"
     ]
    }
   ],
   "source": [
    "for i in range(len(documents[0])):\n",
    "    print(documents[0][i].id)\n",
    "    print(documents[0][i].distance)\n",
    "    print(documents[0][i].entity.get('question'))\n",
    "    print(documents[0][i].entity.get('answer'))\n",
    "    print('----------------')"
   ]
  },
  {
   "cell_type": "code",
   "execution_count": 54,
   "metadata": {},
   "outputs": [
    {
     "name": "stdout",
     "output_type": "stream",
     "text": [
      "1\n"
     ]
    }
   ],
   "source": [
    "# 删除前先查下是否存在\n",
    "expr = 'id in [3]'\n",
    "\n",
    "documents = collection.query(\n",
    "    expr=expr,\n",
    "    offset=0,\n",
    "    limit=top_k,\n",
    "    output_fields=[\"*\"]\n",
    ")\n",
    "\n",
    "print(len(documents))"
   ]
  },
  {
   "cell_type": "code",
   "execution_count": 35,
   "metadata": {},
   "outputs": [
    {
     "data": {
      "text/plain": [
       "(insert count: 0, delete count: 1, upsert count: 0, timestamp: 445019755041259522, success count: 0, err count: 0)"
      ]
     },
     "execution_count": 35,
     "metadata": {},
     "output_type": "execute_result"
    }
   ],
   "source": [
    "# 删除数据\n",
    "collection.delete(expr)"
   ]
  },
  {
   "cell_type": "code",
   "execution_count": 55,
   "metadata": {},
   "outputs": [
    {
     "name": "stdout",
     "output_type": "stream",
     "text": [
      "1\n"
     ]
    }
   ],
   "source": [
    "# 再查一下，看看是否还存在\n",
    "documents = collection.query(\n",
    "    expr=expr,\n",
    "    offset=0,\n",
    "    limit=top_k,\n",
    "    output_fields=[\"*\"]\n",
    ")\n",
    "\n",
    "print(len(documents))"
   ]
  }
 ],
 "metadata": {
  "kernelspec": {
   "display_name": "mobot",
   "language": "python",
   "name": "python3"
  },
  "language_info": {
   "codemirror_mode": {
    "name": "ipython",
    "version": 3
   },
   "file_extension": ".py",
   "mimetype": "text/x-python",
   "name": "python",
   "nbconvert_exporter": "python",
   "pygments_lexer": "ipython3",
   "version": "3.10.13"
  },
  "orig_nbformat": 4
 },
 "nbformat": 4,
 "nbformat_minor": 2
}
